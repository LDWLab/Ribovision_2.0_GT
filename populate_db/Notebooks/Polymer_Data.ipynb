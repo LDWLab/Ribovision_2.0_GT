{
 "cells": [
  {
   "cell_type": "markdown",
   "metadata": {},
   "source": [
    "# Script for uploading our rProtein sequences\n",
    "\n",
    "Uses a pregenerated csv file with the columns:\n",
    "\n",
    "*Txid*, *Accession*, *Origin database*, *Description*, and *Full sequence*\n",
    "\n",
    "Updates tables: **Polymer_Data**, **Polymer_metadata**, and **Residues**"
   ]
  },
  {
   "cell_type": "code",
   "execution_count": 1,
   "metadata": {},
   "outputs": [
    {
     "name": "stdout",
     "output_type": "stream",
     "text": [
      "USAGE:\n",
      "./upload_accession.py -c [csv_file_path]-h\n",
      "\t-c: defines path to csv file with txids, accessions, database, protein name, description, and sequence.\tREQUIRED\n",
      "\t-h: prints this\n"
     ]
    },
    {
     "ename": "SystemExit",
     "evalue": "2",
     "output_type": "error",
     "traceback": [
      "An exception has occurred, use %tb to see the full traceback.\n",
      "\u001b[0;31mSystemExit\u001b[0m\u001b[0;31m:\u001b[0m 2\n"
     ]
    },
    {
     "name": "stderr",
     "output_type": "stream",
     "text": [
      "/usr/local/lib/python3.5/dist-packages/IPython/core/interactiveshell.py:2918: UserWarning: To exit: use 'exit', 'quit', or Ctrl-D.\n",
      "  warn(\"To exit: use 'exit', 'quit', or Ctrl-D.\", stacklevel=1)\n"
     ]
    }
   ],
   "source": [
    "#!/usr/bin/env python3\n",
    "import csv, sys, getopt, getpass, mysql.connector\n",
    "\n",
    "def usage():\n",
    "\tprint (\\\n",
    "\t\"USAGE:\\n./upload_accession.py -c [csv_file_path]-h\\n\\\n",
    "\t-c: defines path to csv file with txids, accessions, database, protein name, description, and sequence.\\tREQUIRED\\n\\\n",
    "\t-h: prints this\\\n",
    "\")\n",
    "\n",
    "try:\n",
    "\topts, args = getopt.getopt(sys.argv[1:], 'c:h', ['csv=', 'help'])\n",
    "except getopt.GetoptError:\n",
    "\tusage()\n",
    "\tsys.exit(2)\n",
    "\n",
    "for opt, arg in opts:\n",
    "\tif opt in ('-h', '--help'):\n",
    "\t\tusage()\n",
    "\t\tsys.exit(2)\n",
    "\telif opt in ('-c', '--csv'):\n",
    "\t\tcsv_path = arg\n",
    "\telse:\n",
    "\t\tusage()\n",
    "\t\tsys.exit(2)\n",
    "\n",
    "uname = input(\"User name: \")\n",
    "pw = getpass.getpass(\"Password: \")\n",
    "cnx = mysql.connector.connect(user=uname, password=pw, host='130.207.36.75', database='DESIRE')\n",
    "cursor = cnx.cursor()\n",
    "\n",
    "def read_csv(csv_path):\n",
    "\twith open(csv_path, 'r') as csv_file:\n",
    "\t\treader = csv.reader(csv_file)\n",
    "\t\tcsv_list = list(reader)\n",
    "\treturn csv_list\n",
    "\n",
    "def superkingdom_info(ID):\n",
    "\t'''\n",
    "\tGets the superkingdom for a strain ID\n",
    "\t'''\n",
    "\t#print(ID)\n",
    "\tcursor.execute(\"SELECT DESIRE.TaxGroups.groupName FROM DESIRE.Species_TaxGroup\\\n",
    "\t\tINNER JOIN DESIRE.TaxGroups ON DESIRE.Species_TaxGroup.taxgroup_id=DESIRE.TaxGroups.taxgroup_id\\\n",
    "\t\tINNER JOIN DESIRE.Species ON DESIRE.Species_TaxGroup.strain_id=DESIRE.Species.strain_id\\\n",
    "\t\tWHERE DESIRE.TaxGroups.groupLevel = 'superkingdom' AND DESIRE.Species.strain_id = '\"+ID+\"'\")\n",
    "\tresults = cursor.fetchall()\n",
    "\t#print(ID,results)\n",
    "\ttry:\n",
    "\t\tsuperkingdom=(results[0][0])\n",
    "\texcept:\n",
    "\t\traise ValueError (\"No result for specie \"+str(ID)+\" in the MYSQL query\")\n",
    "\treturn superkingdom\n",
    "\n",
    "def check_nomo_id(occur, prot_name):\n",
    "\t'''\n",
    "\tGets nom_id for new name and superkingdom\n",
    "\t'''\n",
    "\tcursor.execute(\"SELECT DESIRE.Nomenclature.nom_id FROM DESIRE.Nomenclature\\\n",
    "\t\tINNER JOIN DESIRE.Old_name ON DESIRE.Nomenclature.nom_id=DESIRE.Old_name.nomo_id\\\n",
    "\t\tWHERE DESIRE.Old_name.old_name = '\"+prot_name+\"' AND DESIRE.Old_name.N_B_Y_H_A = 'BAN' AND DESIRE.Nomenclature.occurrence = '\"+occur+\"'\")\n",
    "\tresult = cursor.fetchall()\n",
    "\t#nom_id=result[0][0]\n",
    "\ttry:\n",
    "\t\tnom_id=result[0][0]\n",
    "\texcept:\n",
    "\t\traise ValueError (\"No result for nom_id \"+prot_name+\" and occurrence \"+occur+\" in the MYSQL query\")\n",
    "\treturn nom_id\n",
    "\n",
    "def upload_resi(poldata_id, fullseq):\n",
    "\ti = 1\n",
    "\tfor resi in fullseq:\n",
    "\t\tquery = \"INSERT INTO `DESIRE`.`Residues`(`PolData_id`,`resNum`,`unModResName`) VALUES('\"+poldata_id+\"','\"+str(i)+\"','\"+resi+\"')\"\n",
    "\t\tcursor.execute(query)\n",
    "\t\t#print(query)\n",
    "\t\ti+=1\n",
    "\treturn True\n",
    "\n",
    "def main():\n",
    "\tcsv_list = read_csv(csv_path)\n",
    "\tfor entry in csv_list:\n",
    "\t\tsuperK = superkingdom_info(entry[0])\n",
    "\t\tnom_id = check_nomo_id(superK[0], entry[3])\t\n",
    "\t\tquery = \"INSERT INTO `DESIRE`.`Polymer_Data`(`GI`,`strain_ID`,`nomgd_id`, `GeneDescription`) VALUES('\"+entry[1]+\"','\"+str(entry[0])+\"','\"+str(nom_id)+\"','\"+entry[4]+\"')\"\n",
    "\t\tprint(query)\n",
    "\t\tcursor.execute(query)\n",
    "\t\tlastrow_id = str(cursor.lastrowid)\n",
    "\t\tquery = \"INSERT INTO `DESIRE`.`Polymer_metadata`(`polymer_id`,`accession_type`,`polymer_type`, `Fullseq`) VALUES('\"+str(lastrow_id)+\"','LDW-prot','protein','\"+entry[5]+\"')\"\n",
    "\t\tcursor.execute(query)\n",
    "\t\t#print(query)\n",
    "\t\tupload_resi(str(lastrow_id), entry[5])\n",
    "\t\n",
    "\n",
    "if __name__ == \"__main__\":\n",
    "\tmain()\n",
    "\n",
    "#cnx.commit()\n",
    "cursor.close()\n",
    "cnx.close()\n",
    "print(\"Success!\")"
   ]
  }
 ],
 "metadata": {
  "kernelspec": {
   "display_name": "Python 3",
   "language": "python",
   "name": "python3"
  },
  "language_info": {
   "codemirror_mode": {
    "name": "ipython",
    "version": 3
   },
   "file_extension": ".py",
   "mimetype": "text/x-python",
   "name": "python",
   "nbconvert_exporter": "python",
   "pygments_lexer": "ipython3",
   "version": "3.6.6"
  }
 },
 "nbformat": 4,
 "nbformat_minor": 2
}
