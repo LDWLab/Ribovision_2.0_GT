{
 "cells": [
  {
   "cell_type": "markdown",
   "metadata": {},
   "source": [
    "# Building Python-MySQL Connector to Apollo\n",
    "This notebook will keep track of the master python script for accessing the Apollo server and generating/modifying/updating the DESIRE alignment database."
   ]
  },
  {
   "cell_type": "markdown",
   "metadata": {},
   "source": [
    "A simple code that prompts the user for username and password to connect to Apollo. <span style=\"color:red\">Must be logged in the GaTech VPN first!</span>\n",
    "\n",
    "<span style=\"color:red\">Prerequisites:</span>\n",
    "1. Python3\n",
    "2. mysql.connector from [here](https://dev.mysql.com/downloads/connector/python/) (for wsl you want the **platform independent distributions** mysql-connector-python-[VERSION].tar.gz)\n",
    "\n",
    "\n",
    "Then we execute a simple SELECT statement to check if we are actually getting anything through.\n",
    "\n",
    "<span style=\"color:red\">**Should add proper checks for wrong *uname* and *password* Like [here](https://dev.mysql.com/doc/connector-python/en/connector-python-example-connecting.html) to handle connection errors.**</span>"
   ]
  },
  {
   "cell_type": "code",
   "execution_count": 1,
   "metadata": {},
   "outputs": [
    {
     "name": "stdout",
     "output_type": "stream",
     "text": [
      "User name: vchivukula\n",
      "Password: ········\n",
      "(1148, None, 'Synechocystis sp. PCC 6803 ', None)\n"
     ]
    }
   ],
   "source": [
    "import mysql.connector\n",
    "import getpass\n",
    "\n",
    "uname = input(\"User name: \")\n",
    "pw = getpass.getpass(\"Password: \")\n",
    "cnx = mysql.connector.connect(user=uname, password=pw, host='130.207.36.75', database='DESIRE')\n",
    "cursor = cnx.cursor()\n",
    "query = (\"SELECT * FROM DESIRE.Species\")\n",
    "cursor.execute(query)\n",
    "print(cursor.fetchall()[0])\n",
    "cnx.commit()\n",
    "cnx.close()"
   ]
  }
 ],
 "metadata": {
  "kernelspec": {
   "display_name": "Python 3",
   "language": "python",
   "name": "python3"
  },
  "language_info": {
   "codemirror_mode": {
    "name": "ipython",
    "version": 3
   },
   "file_extension": ".py",
   "mimetype": "text/x-python",
   "name": "python",
   "nbconvert_exporter": "python",
   "pygments_lexer": "ipython3",
   "version": "3.5.2"
  }
 },
 "nbformat": 4,
 "nbformat_minor": 2
}
