{
 "cells": [
  {
   "cell_type": "code",
   "execution_count": 1,
   "metadata": {},
   "outputs": [
    {
     "name": "stdout",
     "output_type": "stream",
     "text": [
      "input the first string: cefdab\n",
      "input the second string: cfebad\n",
      "Hamming Distance =  4\n",
      "Kendall Distance =  4\n",
      "Spearman Distance =  6\n"
     ]
    }
   ],
   "source": [
    "from Bio import AlignIO\n",
    "import collections\n",
    "from collections import defaultdict\n",
    "from fractions import Fraction\n",
    "\n",
    "'''\n",
    "\n",
    "Problem 1: \n",
    "Hamming Distance\n",
    "Kendall Distance\n",
    "Spearman Distance\n",
    "\n",
    "'''\n",
    "\n",
    "input_string1 = input(\"input the first string: \")\n",
    "input_string2 = input(\"input the second string: \")\n",
    "\n",
    "freq1 = collections.Counter(input_string1)\n",
    "freq2 = collections.Counter(input_string2)\n",
    "\n",
    "\t\n",
    "def hamming_distance(str1, str2):\n",
    "\tassert len(str1) == len(str2)\n",
    "\td = 0\n",
    "\tfor i, j in zip (str1, str2):\n",
    "\t\tif i != j:\n",
    "\t\t\td+=1\n",
    "\tprint (\"Hamming Distance = \",d)\n",
    "\t\n",
    "def kendall_distance(str1, str2):\n",
    "\tassert len(str1) == len(str2)\n",
    "\td = 0\n",
    "\tlength = len(str1)\n",
    "\tfor i in range(length):\n",
    "\t\tfor j in range(i, length):\n",
    "\t\t\tif (str1[i] < str1[j]) != (str2[i] < str2[j]):\n",
    "\t\t\t\td+=1\n",
    "\tprint(\"Kendall Distance = \",d)\n",
    "def spearman_distance(str1, str2):\n",
    "\tassert len(str1) == len(str2)\n",
    "\td = 0\n",
    "\tfor i,j in zip(str1,str2):\n",
    "\t\tif i == j:\n",
    "\t\t\tcontinue\n",
    "\t\telif i != j:\n",
    "\t\t\tx = str1.index(i)-str2.index(i)\n",
    "\t\t\td +=abs(x)\t\t\t\n",
    "\tprint(\"Spearman Distance = \",d)\n",
    "\t\n",
    "run_distance = True\n",
    "for k in freq1:\n",
    "    if freq1[k] > 1:\n",
    "        print (\"You repeated the letter \"+k+ \" in the first string\")\n",
    "        run_distance = False\n",
    "\t\t\n",
    "for j in freq2:\n",
    "    if freq2[j] > 1:\n",
    "        print (\"You repeated the letter \"+j+ \" in the second string\")\n",
    "        run_distance = False\t\t\t\n",
    "\n",
    "if run_distance:\n",
    "\t\t\n",
    "\thamming_distance(input_string1, input_string2)\n",
    "\tkendall_distance(input_string1, input_string2)\n",
    "\tspearman_distance(input_string1, input_string2)\n",
    "    "
   ]
  },
  {
   "cell_type": "code",
   "execution_count": 7,
   "metadata": {},
   "outputs": [
    {
     "name": "stdout",
     "output_type": "stream",
     "text": [
      "A : 2/5,0,0,0,1/5,1/5,0,3/5,1/5,0,1/5,2/5,1/5,1/5,1/5,1/5,0,2/5,3/5,1/5,0,\n",
      "T : 1/5,4/5,2/5,0,0,3/5,1/5,2/5,1/5,0,1/5,1/5,3/5,2/5,2/5,3/5,1/5,1/5,0,2/5,0,\n",
      "C : 2/5,0,0,2/5,0,0,1/5,0,2/5,2/5,1/5,0,0,0,1/5,0,2/5,1/5,0,0,0,\n",
      "G : 0,1/5,3/5,3/5,4/5,1/5,3/5,0,1/5,3/5,2/5,2/5,1/5,2/5,1/5,1/5,2/5,1/5,2/5,2/5,0,\n"
     ]
    }
   ],
   "source": [
    "import collections\n",
    "from collections import defaultdict\n",
    "from fractions import Fraction\n",
    "\n",
    "def transpose(seqFile):\n",
    "\tnuc = ['A','T','C','G']\n",
    "\tfreq = {}\n",
    "\ttranslist=[]\n",
    "\twith open(seqFile, 'r') as f:\n",
    "\t\t#lis = [x.split() for x in f]\n",
    "\t\tlis = f.readlines()\n",
    "\tfor x in zip(*lis):\n",
    "\t\ttranslist.append(x)\n",
    "\t#print(len(x))\n",
    "\tfreq = defaultdict(list)\t\n",
    "\tfor seq in nuc:\t\n",
    "\t\tfor item in translist:\n",
    "\t\t\tfreq[seq].append(item.count(seq))\n",
    "\t\n",
    "\t#print(freq)\n",
    "\tfracList=[]\n",
    "\tfor k,v in freq.items():\n",
    "\t\tprint(k,\":\", end=\" \")\n",
    "\t\tfor i in v:\n",
    "\t\t\tprint(Fraction(i, len(x)), end=\",\")\n",
    "\n",
    "\t\tprint()\n",
    "\n",
    "file = r\"/mnt/c/Users/Vasanta Chivukula/Documents/Guerra class/DNA-sequences.txt\"\n",
    "transpose(file)"
   ]
  },
  {
   "cell_type": "code",
   "execution_count": null,
   "metadata": {
    "collapsed": true
   },
   "outputs": [],
   "source": []
  }
 ],
 "metadata": {
  "kernelspec": {
   "display_name": "Python 3",
   "language": "python",
   "name": "python3"
  },
  "language_info": {
   "codemirror_mode": {
    "name": "ipython",
    "version": 3
   },
   "file_extension": ".py",
   "mimetype": "text/x-python",
   "name": "python",
   "nbconvert_exporter": "python",
   "pygments_lexer": "ipython3",
   "version": "3.6.3"
  }
 },
 "nbformat": 4,
 "nbformat_minor": 2
}
